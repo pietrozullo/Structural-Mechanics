{
 "cells": [
  {
   "cell_type": "code",
   "execution_count": 1,
   "metadata": {},
   "outputs": [],
   "source": [
    "# Here are some common libraries that expand the functionality of python\n",
    "import math         # sine, cosine, sqrt, etc.\n",
    "import numpy as np  # so we can work with matrices\n",
    "\n",
    "import matplotlib\n",
    "import matplotlib.pyplot as plt # plotting\n",
    "import sympy as sp # symbolic calculations"
   ]
  },
  {
   "cell_type": "markdown",
   "metadata": {},
   "source": [
    "Define the number of degrees of freedom (x,y,theta,z...), and the position of the nodes. "
   ]
  },
  {
   "cell_type": "code",
   "execution_count": 2,
   "metadata": {},
   "outputs": [],
   "source": [
    "DoF = 3"
   ]
  },
  {
   "cell_type": "code",
   "execution_count": 3,
   "metadata": {},
   "outputs": [],
   "source": [
    "# [x1,y1], ... the (x,y) position of node 1, 2, 3...\n",
    "global nodes\n",
    "nodes = np.array([\n",
    "    [0,0],\n",
    "    [1,0],\n",
    "    [2,0],\n",
    "    [3,0],\n",
    "    [4,0],\n",
    "    [5,0],\n",
    "    [0.5,1],\n",
    "    [1.5,1],\n",
    "    [2.5,1],\n",
    "    [3.5,1],\n",
    "    [4.5,1]\n",
    "])\n",
    "# a list of all the nodes numbers\n",
    "node_numbers = np.array([*range(len(nodes))])\n",
    "global node_DoF\n",
    "node_DoF = np.array([*range(DoF*len(nodes))])"
   ]
  },
  {
   "cell_type": "markdown",
   "metadata": {},
   "source": [
    "Define elements and their characteristics "
   ]
  },
  {
   "cell_type": "code",
   "execution_count": 4,
   "metadata": {},
   "outputs": [],
   "source": [
    "###### element e is connected at nodes i and j\n",
    "# element e: [node i, node j, Young's Modulus, Cross Sectional Area,Second Moment of Area] ... note: we'll calculate L later\n",
    "global elements\n",
    "elements = np.array([\n",
    "    [1,2,0.25*210e9,1,1.5e-5],\n",
    "    [2,3,0.25*210e9,1,1.5e-5],\n",
    "    [3,4,0.25*210e9,1,1.5e-5],\n",
    "    [4,5,0.25*210e9,1,1.5e-5],\n",
    "    [5,6,0.25*210e9,1,1.5e-5],\n",
    "    [1,7,0.25*210e9,1,1.5e-5],\n",
    "    [7,2,0.25*210e9,1,1.5e-5],\n",
    "    [2,8,0.25*210e9,1,1.5e-5],\n",
    "    [8,3,0.25*210e9,1,1.5e-5],\n",
    "    [3,9,0.25*210e9,1,1.5e-5],\n",
    "    [9,4,0.25*210e9,1,1.5e-5],\n",
    "    [4,10,0.25*210e9,1,1.5e-5],\n",
    "    [10,5,0.25*210e9,1,1.5e-5],\n",
    "    [5,11,0.25*210e9,1,1.5e-5],\n",
    "    [11,6,0.25*210e9,1,1.5e-5],\n",
    "    [7,8,0.25*210e9,1,1.5e-5],\n",
    "    [8,9,0.25*210e9,1,1.5e-5],\n",
    "    [9,10,0.25*210e9,1,1.5e-5],\n",
    "    [10,11,0.25*210e9,1,1.5e-5],\n",
    "    [1,9,0.25*210e9,1e3,1.5e-5],\n",
    "    [9,4,0.25*210e9,1e3,1.5e-5],\n",
    "    [1,9,0.25*210e9,1e3,1.5e-5],\n",
    "    [9,6,0.25*210e9,1e3,1.5e-5],\n",
    "    [7,4,0.25*210e9,1e9,1.5e-5],\n",
    "    [3,11,0.25*210e9,1e9,1.5e-5]\n",
    "])"
   ]
  },
  {
   "cell_type": "markdown",
   "metadata": {},
   "source": [
    "Plot the undeformed structure "
   ]
  },
  {
   "cell_type": "code",
   "execution_count": 5,
   "metadata": {},
   "outputs": [
    {
     "data": {
      "image/png": "[encoded data removed]",
      "text/plain": [
       "<Figure size 432x288 with 1 Axes>"
      ]
     },
     "metadata": {
      "needs_background": "light"
     },
     "output_type": "display_data"
    }
   ],
   "source": [
    "# set axes aspect ratio = 1\n",
    "# turn off the axis\n",
    "plt.axes().set_aspect('equal') \n",
    "plt.axis('off') \n",
    "\n",
    "# plot the nodes\n",
    "plt.plot(nodes[:,0], nodes[:,1], 'k.',markersize=15)\n",
    "# plot the elements\n",
    "# loop through the list of elements, grab the x position and y position of each node associated with that element\n",
    "# the line: 'elements[i,0]-1' is necessary because python starts counting at 0, not 1 (like MATLAB)\n",
    "for i in range(len(elements)):\n",
    "    plt.plot(np.array([\n",
    "    nodes[int(elements[i,0]-1),0], nodes[int(elements[i,1]-1),0]]),\n",
    "         np.array([nodes[int(elements[i,0]-1),1], nodes[int(elements[i,1]-1),1]]),\n",
    "         'k-')\n",
    "plt.show()\n"
   ]
  },
  {
   "cell_type": "markdown",
   "metadata": {},
   "source": [
    "Define the Dirichlet/geometric boundary conditions"
   ]
  },
  {
   "cell_type": "code",
   "execution_count": 6,
   "metadata": {},
   "outputs": [],
   "source": [
    "# dirichlet boundary conditions\n",
    "# [node, DoF (x=1, y=2 , theta=3), value]  THETA ADDED\n",
    "#number of node as on the image \n",
    "bc = np.array([\n",
    "    [1,1,0],\n",
    "    [1,2,0],\n",
    "    [6,2,0],\n",
    "    [6,1,0]\n",
    "])"
   ]
  },
  {
   "cell_type": "code",
   "execution_count": 7,
   "metadata": {},
   "outputs": [],
   "source": [
    "## neumann boundary conditions - e.g. forces\n",
    "# [node, DoF (x=1,y=2,theta = 3), magnitude of force]\n",
    "forces = np.array([\n",
    "    [1,2,-30e7],\n",
    "    [2,2,-30e7],\n",
    "    [3,2,-30e7],\n",
    "    [4,2,-30e9],\n",
    "    [5,2,-30e7],\n",
    "    [6,2,-30e7]\n",
    "])"
   ]
  },
  {
   "cell_type": "code",
   "execution_count": 8,
   "metadata": {},
   "outputs": [],
   "source": [
    "# initializing the vectors F, u, and the matrix K\n",
    "ForcesandMoments = u = np.zeros(DoF*len(nodes)) #[N_i,V_i,M_i,N_j,V_j,M_j]\n",
    "K0 = np.zeros([DoF*len(nodes), DoF*len(nodes)])"
   ]
  },
  {
   "cell_type": "code",
   "execution_count": 9,
   "metadata": {},
   "outputs": [],
   "source": [
    "def XY(element):\n",
    "    return np.array([\n",
    "        nodes[int(elements[element,0]-1)],\n",
    "        nodes[int(elements[element,1]-1)]\n",
    "    ])"
   ]
  },
  {
   "cell_type": "code",
   "execution_count": 10,
   "metadata": {},
   "outputs": [],
   "source": [
    "# for element e, what degrees of freedom in the structure do the nodes correspond to?\n",
    "def elementDoF(element):\n",
    "    node_i = int(elements[element,:DoF][0])-1 # -1 is for python counting\n",
    "    node_j = int(elements[element,:DoF][1])-1 # -1 is for python counting\n",
    "    \n",
    "    elementDoF = np.array([\n",
    "        [node_DoF[DoF*node_i]],\n",
    "        [node_DoF[DoF*node_i+1]],\n",
    "        [node_DoF[DoF*node_i+2]],\n",
    "        [node_DoF[DoF*node_j]],\n",
    "        [node_DoF[DoF*node_j+1]],\n",
    "        [node_DoF[DoF*node_j+2]],\n",
    "    ])\n",
    "\n",
    "    return elementDoF"
   ]
  },
  {
   "cell_type": "code",
   "execution_count": 11,
   "metadata": {},
   "outputs": [
    {
     "data": {
      "text/plain": [
       "array([[0],\n",
       "       [1],\n",
       "       [2],\n",
       "       [3],\n",
       "       [4],\n",
       "       [5]])"
      ]
     },
     "execution_count": 11,
     "metadata": {},
     "output_type": "execute_result"
    }
   ],
   "source": [
    "elementDoF(0)"
   ]
  },
  {
   "cell_type": "code",
   "execution_count": null,
   "metadata": {},
   "outputs": [],
   "source": []
  },
  {
   "cell_type": "code",
   "execution_count": 12,
   "metadata": {},
   "outputs": [],
   "source": [
    "# elemental stiffness matrix in global coordinates\n",
    "def Kel(element):\n",
    "    XY1 = XY(element)\n",
    "    x1, y1, x2, y2 = XY1[0,0], XY1[0,1], XY1[1,0], XY1[1,1]\n",
    "    E = elements[element][2]\n",
    "    A = elements[element][3]\n",
    "    I = elements[element][4]\n",
    "    L = math.sqrt((x2-x1)**2 + (y2-y1)**2)\n",
    "    c = (x2-x1)/L\n",
    "    s = (y2-y1)/L\n",
    "        \n",
    "    #KGLOBAL = TRANSPOSE(T)*KLOCAL*T\n",
    "    \n",
    "    Kel_L =np.array([\n",
    "        [E*A/L,0,0,-E*A/L,0,0],\n",
    "        [0,12*E*I/(L**3),6*E*I/(L**2),0,-12*E*I/(L**3),6*E*I/(L**2)],\n",
    "        [0,6*E*I/(L**2),4*E*I/L,0,-6*E*I/(L**2),2*E*I/L],\n",
    "        [-E*A/L,0,0,E*A/L,0,0],\n",
    "        [0,-12*E*I/(L**3),-6*E*I/(L**2),0,12*E*I/(L**3),-6*E*I/(L**2)],\n",
    "        [0,6*E*I/(L**2),2*E*I/L,0,-6*E*I/(L**2),4*E*I/L]\n",
    "    ]) \n",
    "    \n",
    "    T = np.array([\n",
    "        [c,s,0,0,0,0],\n",
    "        [-s,c,0,0,0,0],\n",
    "        [0,0,1,0,0,0],\n",
    "        [0,0,0,c,s,0],\n",
    "        [0,0,0,-s,c,0],\n",
    "        [0,0,0,0,0,1]\n",
    "        ])\n",
    "    \n",
    "    \n",
    "    \n",
    "    Kel = np.transpose(T).dot(Kel_L).dot(T)\n",
    "     \n",
    "    return Kel"
   ]
  },
  {
   "cell_type": "code",
   "execution_count": 13,
   "metadata": {},
   "outputs": [],
   "source": [
    "# augment the elemental stiffness matrix by adding rows & columns of zeroes at the missing nodes\n",
    "def Kaug(e):\n",
    "    \"\"\"\"\"\"\n",
    "    Kel1 = Kel(e)\n",
    "    kaug = np.zeros([DoF*len(nodes), DoF*len(nodes)])\n",
    "    i = elementDoF(e)[0][0]#0 \n",
    "    j = elementDoF(e)[1][0]#1\n",
    "    m = elementDoF(e)[2][0]#2\n",
    "    k = elementDoF(e)[3][0]#3\n",
    "    l = elementDoF(e)[4][0]#4\n",
    "    n = elementDoF(e)[5][0]#5\n",
    "    \n",
    "    kaug[i][i] += Kel1[0][0] \n",
    "    kaug[i][j] += Kel1[0][1]\n",
    "    kaug[i][m] += Kel1[0][2]\n",
    "    kaug[j][i] += Kel1[1][0]\n",
    "    kaug[j][j] += Kel1[1][1]\n",
    "    kaug[j][m] += Kel1[1][2]\n",
    "    kaug[m][i] += Kel1[2][0]\n",
    "    kaug[m][j] += Kel1[2][1]\n",
    "    kaug[m][m] += Kel1[2][2]\n",
    "\n",
    "    kaug[k][k] += Kel1[3][3]\n",
    "    kaug[k][l] += Kel1[3][4]\n",
    "    kaug[k][n] += Kel1[3][5]\n",
    "    kaug[l][k] += Kel1[4][3]\n",
    "    kaug[l][l] += Kel1[4][4]\n",
    "    kaug[l][n] += Kel1[4][5]\n",
    "    kaug[n][k] += Kel1[5][3]\n",
    "    kaug[n][l] += Kel1[5][4]\n",
    "    kaug[n][n] += Kel1[5][5]    \n",
    "    \n",
    "    kaug[i][k] += Kel1[0][3]\n",
    "    kaug[i][l] += Kel1[0][4]    \n",
    "    kaug[i][n] += Kel1[0][5]\n",
    "    kaug[j][k] += Kel1[1][3]    \n",
    "    kaug[j][l] += Kel1[1][4]\n",
    "    kaug[j][n] += Kel1[1][5]    \n",
    "    kaug[m][k] += Kel1[2][3]\n",
    "    kaug[m][l] += Kel1[2][4]   \n",
    "    kaug[m][n] += Kel1[2][5]\n",
    "    kaug[k][i] += Kel1[3][0]\n",
    "    kaug[k][j] += Kel1[3][1]    \n",
    "    kaug[k][m] += Kel1[3][2]\n",
    "    kaug[l][i] += Kel1[4][0]    \n",
    "    kaug[l][j] += Kel1[4][1]\n",
    "    kaug[l][m] += Kel1[4][2]\n",
    "    kaug[n][i] += Kel1[5][0]    \n",
    "    kaug[n][j] += Kel1[5][1]\n",
    "    kaug[n][m] += Kel1[5][2]\n",
    "   \n",
    "    \n",
    "    return kaug"
   ]
  },
  {
   "cell_type": "code",
   "execution_count": null,
   "metadata": {},
   "outputs": [],
   "source": []
  },
  {
   "cell_type": "code",
   "execution_count": 14,
   "metadata": {},
   "outputs": [
    {
     "data": {
      "text/plain": [
       "array([[5.250e+10, 0.000e+00, 0.000e+00, ..., 0.000e+00, 0.000e+00,\n",
       "        0.000e+00],\n",
       "       [0.000e+00, 9.450e+06, 4.725e+06, ..., 0.000e+00, 0.000e+00,\n",
       "        0.000e+00],\n",
       "       [0.000e+00, 4.725e+06, 3.150e+06, ..., 0.000e+00, 0.000e+00,\n",
       "        0.000e+00],\n",
       "       ...,\n",
       "       [0.000e+00, 0.000e+00, 0.000e+00, ..., 0.000e+00, 0.000e+00,\n",
       "        0.000e+00],\n",
       "       [0.000e+00, 0.000e+00, 0.000e+00, ..., 0.000e+00, 0.000e+00,\n",
       "        0.000e+00],\n",
       "       [0.000e+00, 0.000e+00, 0.000e+00, ..., 0.000e+00, 0.000e+00,\n",
       "        0.000e+00]])"
      ]
     },
     "execution_count": 14,
     "metadata": {},
     "output_type": "execute_result"
    }
   ],
   "source": [
    "Kaug(0)"
   ]
  },
  {
   "cell_type": "code",
   "execution_count": 15,
   "metadata": {},
   "outputs": [],
   "source": [
    "def MasterStiffness():\n",
    "# Calculate the Master Stiffness matrix:\n",
    "# 1. Get the x & y coordinates of each node connected to element i\n",
    "# 2. Calculate the stiffness matrix for element i\n",
    "# 3. Augment the elemental stiffness matrix to the size of K\n",
    "# 4. Add it to K, loop over the remaining elements\n",
    "    K = np.zeros([DoF*len(nodes), DoF*len(nodes)])\n",
    "    for i in range(len(elements)):\n",
    "        nodesXY = XY(i)\n",
    "        K += Kaug(i)\n",
    "    return K"
   ]
  },
  {
   "cell_type": "code",
   "execution_count": 16,
   "metadata": {},
   "outputs": [
    {
     "data": {
      "text/plain": [
       "array([[ 3.36791565e+13,  1.34656837e+13, -3.86502332e+06, ...,\n",
       "         0.00000000e+00,  0.00000000e+00,  0.00000000e+00],\n",
       "       [ 1.34656837e+13,  5.41633910e+12,  7.62568873e+06, ...,\n",
       "         0.00000000e+00,  0.00000000e+00,  0.00000000e+00],\n",
       "       [-3.86502332e+06,  7.62568873e+06,  8.30720691e+06, ...,\n",
       "         0.00000000e+00,  0.00000000e+00,  0.00000000e+00],\n",
       "       ...,\n",
       "       [ 0.00000000e+00,  0.00000000e+00,  0.00000000e+00, ...,\n",
       "         1.68086298e+19,  6.72345190e+18,  7.00391383e+06],\n",
       "       [ 0.00000000e+00,  0.00000000e+00,  0.00000000e+00, ...,\n",
       "         6.72345190e+18,  2.68938083e+18, -5.33011067e+06],\n",
       "       [ 0.00000000e+00,  0.00000000e+00,  0.00000000e+00, ...,\n",
       "         7.00391383e+06, -5.33011067e+06,  9.95477193e+06]])"
      ]
     },
     "execution_count": 16,
     "metadata": {},
     "output_type": "execute_result"
    }
   ],
   "source": [
    "K = MasterStiffness()\n",
    "K"
   ]
  },
  {
   "cell_type": "code",
   "execution_count": 17,
   "metadata": {},
   "outputs": [
    {
     "name": "stdout",
     "output_type": "stream",
     "text": [
      "[0, -300000000.0, 0, 0, -300000000.0, 0, 0, -300000000.0, 0, 0, -30000000000.0, 0, 0, -300000000.0, 0, 0, -300000000.0, 0, 0, 0, 0, 0, 0, 0, 0, 0, 0, 0, 0, 0, 0, 0, 0] [0, 1, 16, 15]\n"
     ]
    }
   ],
   "source": [
    "# initialize vectors for the specified displacements and forces. these will be [1 x DoF]\n",
    "u_specified=[]\n",
    "F_specified=[0]*DoF*len(nodes)\n",
    "\n",
    "# what DoF are specified?\n",
    "for i in range(len(bc)):\n",
    "    u_specified.append(DoF*(bc[i,0]-1)+bc[i,1]-1)\n",
    "# assign the external forces to the corresponding DoF in F   \n",
    "for i in range(len(forces)):    \n",
    "    F_specified[int((DoF*(forces[i,0]-1)+forces[i,1])-1)]=forces[i,2]\n",
    "    \n",
    "print(F_specified,u_specified)\n",
    "u_unknown = np.delete(u,u_specified) # deleting the specified displacments from u\n",
    "K_reduced = np.delete(K,u_specified,0) # deleting rows\n",
    "K_reduced = np.delete(K_reduced,u_specified,1) # deleting columns\n",
    "F_specified = np.delete(F_specified,u_specified) # deleting the forces that correspond to specified displacments"
   ]
  },
  {
   "cell_type": "code",
   "execution_count": 18,
   "metadata": {},
   "outputs": [
    {
     "data": {
      "text/plain": [
       "array([[ 8.30720691e+06,  0.00000000e+00, -4.72500000e+06,\n",
       "         1.57500000e+06,  0.00000000e+00,  0.00000000e+00,\n",
       "         0.00000000e+00,  0.00000000e+00,  0.00000000e+00,\n",
       "         0.00000000e+00,  0.00000000e+00,  0.00000000e+00,\n",
       "         0.00000000e+00,  0.00000000e+00,  3.38093478e+06,\n",
       "        -1.69046739e+06,  1.40872283e+06,  0.00000000e+00,\n",
       "         0.00000000e+00,  0.00000000e+00,  4.84088537e+05,\n",
       "        -1.21022134e+06,  1.16988063e+06,  0.00000000e+00,\n",
       "         0.00000000e+00,  0.00000000e+00,  0.00000000e+00,\n",
       "         0.00000000e+00,  0.00000000e+00],\n",
       "       [ 0.00000000e+00,  1.23793790e+11,  0.00000000e+00,\n",
       "        -6.76186956e+06, -5.25000000e+10,  0.00000000e+00,\n",
       "         0.00000000e+00,  0.00000000e+00,  0.00000000e+00,\n",
       "         0.00000000e+00,  0.00000000e+00,  0.00000000e+00,\n",
       "         0.00000000e+00,  0.00000000e+00, -9.39689500e+09,\n",
       "         1.87802663e+10, -3.38093478e+06, -9.39689500e+09,\n",
       "        -1.87802663e+10, -3.38093478e+06,  0.00000000e+00,\n",
       "         0.00000000e+00,  0.00000000e+00,  0.00000000e+00,\n",
       "         0.00000000e+00,  0.00000000e+00,  0.00000000e+00,\n",
       "         0.00000000e+00,  0.00000000e+00],\n",
       "       [-4.72500000e+06,  0.00000000e+00,  7.51534888e+10,\n",
       "         0.00000000e+00,  0.00000000e+00, -9.45000000e+06,\n",
       "         4.72500000e+06,  0.00000000e+00,  0.00000000e+00,\n",
       "         0.00000000e+00,  0.00000000e+00,  0.00000000e+00,\n",
       "         0.00000000e+00,  0.00000000e+00,  1.87802663e+10,\n",
       "        -3.75672944e+10, -1.69046739e+06, -1.87802663e+10,\n",
       "        -3.75672944e+10,  1.69046739e+06,  0.00000000e+00,\n",
       "         0.00000000e+00,  0.00000000e+00,  0.00000000e+00,\n",
       "         0.00000000e+00,  0.00000000e+00,  0.00000000e+00,\n",
       "         0.00000000e+00,  0.00000000e+00],\n",
       "       [ 1.57500000e+06, -6.76186956e+06,  0.00000000e+00,\n",
       "         1.19348913e+07,  0.00000000e+00, -4.72500000e+06,\n",
       "         1.57500000e+06,  0.00000000e+00,  0.00000000e+00,\n",
       "         0.00000000e+00,  0.00000000e+00,  0.00000000e+00,\n",
       "         0.00000000e+00,  0.00000000e+00,  3.38093478e+06,\n",
       "         1.69046739e+06,  1.40872283e+06,  3.38093478e+06,\n",
       "        -1.69046739e+06,  1.40872283e+06,  0.00000000e+00,\n",
       "         0.00000000e+00,  0.00000000e+00,  0.00000000e+00,\n",
       "         0.00000000e+00,  0.00000000e+00,  0.00000000e+00,\n",
       "         0.00000000e+00,  0.00000000e+00],\n",
       "       [ 0.00000000e+00, -5.25000000e+10,  0.00000000e+00,\n",
       "         0.00000000e+00,  1.68086299e+19,  6.72345190e+18,\n",
       "        -7.00391383e+06, -5.25000000e+10,  0.00000000e+00,\n",
       "         0.00000000e+00,  0.00000000e+00,  0.00000000e+00,\n",
       "         0.00000000e+00,  0.00000000e+00,  0.00000000e+00,\n",
       "         0.00000000e+00,  0.00000000e+00, -9.39689500e+09,\n",
       "         1.87802663e+10, -3.38093478e+06, -9.39689500e+09,\n",
       "        -1.87802663e+10, -3.38093478e+06,  0.00000000e+00,\n",
       "         0.00000000e+00,  0.00000000e+00, -1.68086297e+19,\n",
       "        -6.72345190e+18, -2.42044268e+05],\n",
       "       [ 0.00000000e+00,  0.00000000e+00, -9.45000000e+06,\n",
       "        -4.72500000e+06,  6.72345190e+18,  2.68938083e+18,\n",
       "         6.05110671e+05,  0.00000000e+00, -9.45000000e+06,\n",
       "         4.72500000e+06,  0.00000000e+00,  0.00000000e+00,\n",
       "         0.00000000e+00,  0.00000000e+00,  0.00000000e+00,\n",
       "         0.00000000e+00,  0.00000000e+00,  1.87802663e+10,\n",
       "        -3.75672944e+10, -1.69046739e+06, -1.87802663e+10,\n",
       "        -3.75672944e+10,  1.69046739e+06,  0.00000000e+00,\n",
       "         0.00000000e+00,  0.00000000e+00, -6.72345190e+18,\n",
       "        -2.68938076e+18,  6.05110671e+05],\n",
       "       [ 0.00000000e+00,  0.00000000e+00,  4.72500000e+06,\n",
       "         1.57500000e+06, -7.00391383e+06,  6.05110671e+05,\n",
       "         1.31047719e+07,  0.00000000e+00, -4.72500000e+06,\n",
       "         1.57500000e+06,  0.00000000e+00,  0.00000000e+00,\n",
       "         0.00000000e+00,  0.00000000e+00,  0.00000000e+00,\n",
       "         0.00000000e+00,  0.00000000e+00,  3.38093478e+06,\n",
       "         1.69046739e+06,  1.40872283e+06,  3.38093478e+06,\n",
       "        -1.69046739e+06,  1.40872283e+06,  0.00000000e+00,\n",
       "         0.00000000e+00,  0.00000000e+00,  2.42044268e+05,\n",
       "        -6.05110671e+05,  5.84940315e+05],\n",
       "       [ 0.00000000e+00,  0.00000000e+00,  0.00000000e+00,\n",
       "         0.00000000e+00, -5.25000000e+10,  0.00000000e+00,\n",
       "         0.00000000e+00,  1.68086393e+19, -6.72347068e+18,\n",
       "        -1.03848486e+07, -5.25000000e+10,  0.00000000e+00,\n",
       "         0.00000000e+00,  0.00000000e+00, -1.68086297e+19,\n",
       "         6.72345190e+18, -2.42044268e+05,  0.00000000e+00,\n",
       "         0.00000000e+00,  0.00000000e+00, -9.40088781e+12,\n",
       "         1.88017486e+13, -6.76186956e+06, -9.39689500e+09,\n",
       "        -1.87802663e+10, -3.38093478e+06,  0.00000000e+00,\n",
       "         0.00000000e+00,  0.00000000e+00],\n",
       "       [ 0.00000000e+00,  0.00000000e+00,  0.00000000e+00,\n",
       "         0.00000000e+00,  0.00000000e+00, -9.45000000e+06,\n",
       "        -4.72500000e+06, -6.72347068e+18,  2.68941840e+18,\n",
       "        -2.29557806e+06,  0.00000000e+00, -9.45000000e+06,\n",
       "         4.72500000e+06,  0.00000000e+00,  6.72345190e+18,\n",
       "        -2.68938076e+18, -6.05110671e+05,  0.00000000e+00,\n",
       "         0.00000000e+00,  0.00000000e+00,  1.88017486e+13,\n",
       "        -3.76035107e+13, -3.38093478e+06, -1.87802663e+10,\n",
       "        -3.75672944e+10,  1.69046739e+06,  0.00000000e+00,\n",
       "         0.00000000e+00,  0.00000000e+00],\n",
       "       [ 0.00000000e+00,  0.00000000e+00,  0.00000000e+00,\n",
       "         0.00000000e+00,  0.00000000e+00,  4.72500000e+06,\n",
       "         1.57500000e+06, -1.03848486e+07, -2.29557806e+06,\n",
       "         1.59222176e+07,  0.00000000e+00, -4.72500000e+06,\n",
       "         1.57500000e+06,  0.00000000e+00,  2.42044268e+05,\n",
       "         6.05110671e+05,  5.84940315e+05,  0.00000000e+00,\n",
       "         0.00000000e+00,  0.00000000e+00,  6.76186956e+06,\n",
       "         3.38093478e+06,  2.81744565e+06,  3.38093478e+06,\n",
       "        -1.69046739e+06,  1.40872283e+06,  0.00000000e+00,\n",
       "         0.00000000e+00,  0.00000000e+00],\n",
       "       [ 0.00000000e+00,  0.00000000e+00,  0.00000000e+00,\n",
       "         0.00000000e+00,  0.00000000e+00,  0.00000000e+00,\n",
       "         0.00000000e+00, -5.25000000e+10,  0.00000000e+00,\n",
       "         0.00000000e+00,  1.23793790e+11,  0.00000000e+00,\n",
       "        -6.76186956e+06,  0.00000000e+00,  0.00000000e+00,\n",
       "         0.00000000e+00,  0.00000000e+00,  0.00000000e+00,\n",
       "         0.00000000e+00,  0.00000000e+00,  0.00000000e+00,\n",
       "         0.00000000e+00,  0.00000000e+00, -9.39689500e+09,\n",
       "         1.87802663e+10, -3.38093478e+06, -9.39689500e+09,\n",
       "        -1.87802663e+10, -3.38093478e+06],\n",
       "       [ 0.00000000e+00,  0.00000000e+00,  0.00000000e+00,\n",
       "         0.00000000e+00,  0.00000000e+00,  0.00000000e+00,\n",
       "         0.00000000e+00,  0.00000000e+00, -9.45000000e+06,\n",
       "        -4.72500000e+06,  0.00000000e+00,  7.51534888e+10,\n",
       "         0.00000000e+00,  4.72500000e+06,  0.00000000e+00,\n",
       "         0.00000000e+00,  0.00000000e+00,  0.00000000e+00,\n",
       "         0.00000000e+00,  0.00000000e+00,  0.00000000e+00,\n",
       "         0.00000000e+00,  0.00000000e+00,  1.87802663e+10,\n",
       "        -3.75672944e+10, -1.69046739e+06, -1.87802663e+10,\n",
       "        -3.75672944e+10,  1.69046739e+06],\n",
       "       [ 0.00000000e+00,  0.00000000e+00,  0.00000000e+00,\n",
       "         0.00000000e+00,  0.00000000e+00,  0.00000000e+00,\n",
       "         0.00000000e+00,  0.00000000e+00,  4.72500000e+06,\n",
       "         1.57500000e+06, -6.76186956e+06,  0.00000000e+00,\n",
       "         1.19348913e+07,  1.57500000e+06,  0.00000000e+00,\n",
       "         0.00000000e+00,  0.00000000e+00,  0.00000000e+00,\n",
       "         0.00000000e+00,  0.00000000e+00,  0.00000000e+00,\n",
       "         0.00000000e+00,  0.00000000e+00,  3.38093478e+06,\n",
       "         1.69046739e+06,  1.40872283e+06,  3.38093478e+06,\n",
       "        -1.69046739e+06,  1.40872283e+06],\n",
       "       [ 0.00000000e+00,  0.00000000e+00,  0.00000000e+00,\n",
       "         0.00000000e+00,  0.00000000e+00,  0.00000000e+00,\n",
       "         0.00000000e+00,  0.00000000e+00,  0.00000000e+00,\n",
       "         0.00000000e+00,  0.00000000e+00,  4.72500000e+06,\n",
       "         1.57500000e+06,  7.13732628e+06,  0.00000000e+00,\n",
       "         0.00000000e+00,  0.00000000e+00,  0.00000000e+00,\n",
       "         0.00000000e+00,  0.00000000e+00,  2.42044268e+05,\n",
       "         6.05110671e+05,  5.84940315e+05,  0.00000000e+00,\n",
       "         0.00000000e+00,  0.00000000e+00,  3.38093478e+06,\n",
       "         1.69046739e+06,  1.40872283e+06],\n",
       "       [ 3.38093478e+06, -9.39689500e+09,  1.87802663e+10,\n",
       "         3.38093478e+06,  0.00000000e+00,  0.00000000e+00,\n",
       "         0.00000000e+00, -1.68086297e+19,  6.72345190e+18,\n",
       "         2.42044268e+05,  0.00000000e+00,  0.00000000e+00,\n",
       "         0.00000000e+00,  0.00000000e+00,  1.68086298e+19,\n",
       "        -6.72345190e+18,  7.00391383e+06, -5.25000000e+10,\n",
       "         0.00000000e+00,  0.00000000e+00,  0.00000000e+00,\n",
       "         0.00000000e+00,  0.00000000e+00,  0.00000000e+00,\n",
       "         0.00000000e+00,  0.00000000e+00,  0.00000000e+00,\n",
       "         0.00000000e+00,  0.00000000e+00],\n",
       "       [-1.69046739e+06,  1.87802663e+10, -3.75672944e+10,\n",
       "         1.69046739e+06,  0.00000000e+00,  0.00000000e+00,\n",
       "         0.00000000e+00,  6.72345190e+18, -2.68938076e+18,\n",
       "         6.05110671e+05,  0.00000000e+00,  0.00000000e+00,\n",
       "         0.00000000e+00,  0.00000000e+00, -6.72345190e+18,\n",
       "         2.68938083e+18,  5.33011067e+06,  0.00000000e+00,\n",
       "        -9.45000000e+06,  4.72500000e+06,  0.00000000e+00,\n",
       "         0.00000000e+00,  0.00000000e+00,  0.00000000e+00,\n",
       "         0.00000000e+00,  0.00000000e+00,  0.00000000e+00,\n",
       "         0.00000000e+00,  0.00000000e+00],\n",
       "       [ 1.40872283e+06, -3.38093478e+06, -1.69046739e+06,\n",
       "         1.40872283e+06,  0.00000000e+00,  0.00000000e+00,\n",
       "         0.00000000e+00, -2.42044268e+05, -6.05110671e+05,\n",
       "         5.84940315e+05,  0.00000000e+00,  0.00000000e+00,\n",
       "         0.00000000e+00,  0.00000000e+00,  7.00391383e+06,\n",
       "         5.33011067e+06,  9.95477193e+06,  0.00000000e+00,\n",
       "        -4.72500000e+06,  1.57500000e+06,  0.00000000e+00,\n",
       "         0.00000000e+00,  0.00000000e+00,  0.00000000e+00,\n",
       "         0.00000000e+00,  0.00000000e+00,  0.00000000e+00,\n",
       "         0.00000000e+00,  0.00000000e+00],\n",
       "       [ 0.00000000e+00, -9.39689500e+09, -1.87802663e+10,\n",
       "         3.38093478e+06, -9.39689500e+09,  1.87802663e+10,\n",
       "         3.38093478e+06,  0.00000000e+00,  0.00000000e+00,\n",
       "         0.00000000e+00,  0.00000000e+00,  0.00000000e+00,\n",
       "         0.00000000e+00,  0.00000000e+00, -5.25000000e+10,\n",
       "         0.00000000e+00,  0.00000000e+00,  1.23793790e+11,\n",
       "         0.00000000e+00,  6.76186956e+06, -5.25000000e+10,\n",
       "         0.00000000e+00,  0.00000000e+00,  0.00000000e+00,\n",
       "         0.00000000e+00,  0.00000000e+00,  0.00000000e+00,\n",
       "         0.00000000e+00,  0.00000000e+00],\n",
       "       [ 0.00000000e+00, -1.87802663e+10, -3.75672944e+10,\n",
       "        -1.69046739e+06,  1.87802663e+10, -3.75672944e+10,\n",
       "         1.69046739e+06,  0.00000000e+00,  0.00000000e+00,\n",
       "         0.00000000e+00,  0.00000000e+00,  0.00000000e+00,\n",
       "         0.00000000e+00,  0.00000000e+00,  0.00000000e+00,\n",
       "        -9.45000000e+06, -4.72500000e+06,  0.00000000e+00,\n",
       "         7.51534888e+10,  0.00000000e+00,  0.00000000e+00,\n",
       "        -9.45000000e+06,  4.72500000e+06,  0.00000000e+00,\n",
       "         0.00000000e+00,  0.00000000e+00,  0.00000000e+00,\n",
       "         0.00000000e+00,  0.00000000e+00],\n",
       "       [ 0.00000000e+00, -3.38093478e+06,  1.69046739e+06,\n",
       "         1.40872283e+06, -3.38093478e+06, -1.69046739e+06,\n",
       "         1.40872283e+06,  0.00000000e+00,  0.00000000e+00,\n",
       "         0.00000000e+00,  0.00000000e+00,  0.00000000e+00,\n",
       "         0.00000000e+00,  0.00000000e+00,  0.00000000e+00,\n",
       "         4.72500000e+06,  1.57500000e+06,  6.76186956e+06,\n",
       "         0.00000000e+00,  1.19348913e+07,  0.00000000e+00,\n",
       "        -4.72500000e+06,  1.57500000e+06,  0.00000000e+00,\n",
       "         0.00000000e+00,  0.00000000e+00,  0.00000000e+00,\n",
       "         0.00000000e+00,  0.00000000e+00],\n",
       "       [ 4.84088537e+05,  0.00000000e+00,  0.00000000e+00,\n",
       "         0.00000000e+00, -9.39689500e+09, -1.87802663e+10,\n",
       "         3.38093478e+06, -9.40088781e+12,  1.88017486e+13,\n",
       "         6.76186956e+06,  0.00000000e+00,  0.00000000e+00,\n",
       "         0.00000000e+00,  2.42044268e+05,  0.00000000e+00,\n",
       "         0.00000000e+00,  0.00000000e+00, -5.25000000e+10,\n",
       "         0.00000000e+00,  0.00000000e+00,  5.99411742e+13,\n",
       "        -1.20595166e+13,  1.08689372e+07, -5.25000000e+10,\n",
       "         0.00000000e+00,  0.00000000e+00,  0.00000000e+00,\n",
       "         0.00000000e+00,  0.00000000e+00],\n",
       "       [-1.21022134e+06,  0.00000000e+00,  0.00000000e+00,\n",
       "         0.00000000e+00, -1.87802663e+10, -3.75672944e+10,\n",
       "        -1.69046739e+06,  1.88017486e+13, -3.76035107e+13,\n",
       "         3.38093478e+06,  0.00000000e+00,  0.00000000e+00,\n",
       "         0.00000000e+00,  6.05110671e+05,  0.00000000e+00,\n",
       "         0.00000000e+00,  0.00000000e+00,  0.00000000e+00,\n",
       "        -9.45000000e+06, -4.72500000e+06, -1.20595166e+13,\n",
       "         4.57092404e+13,  1.08535672e+06,  0.00000000e+00,\n",
       "        -9.45000000e+06,  4.72500000e+06,  0.00000000e+00,\n",
       "         0.00000000e+00,  0.00000000e+00],\n",
       "       [ 1.16988063e+06,  0.00000000e+00,  0.00000000e+00,\n",
       "         0.00000000e+00, -3.38093478e+06,  1.69046739e+06,\n",
       "         1.40872283e+06, -6.76186956e+06, -3.38093478e+06,\n",
       "         2.81744565e+06,  0.00000000e+00,  0.00000000e+00,\n",
       "         0.00000000e+00,  5.84940315e+05,  0.00000000e+00,\n",
       "         0.00000000e+00,  0.00000000e+00,  0.00000000e+00,\n",
       "         4.72500000e+06,  1.57500000e+06,  1.08689372e+07,\n",
       "         1.08535672e+06,  1.82619788e+07,  0.00000000e+00,\n",
       "        -4.72500000e+06,  1.57500000e+06,  0.00000000e+00,\n",
       "         0.00000000e+00,  0.00000000e+00],\n",
       "       [ 0.00000000e+00,  0.00000000e+00,  0.00000000e+00,\n",
       "         0.00000000e+00,  0.00000000e+00,  0.00000000e+00,\n",
       "         0.00000000e+00, -9.39689500e+09, -1.87802663e+10,\n",
       "         3.38093478e+06, -9.39689500e+09,  1.87802663e+10,\n",
       "         3.38093478e+06,  0.00000000e+00,  0.00000000e+00,\n",
       "         0.00000000e+00,  0.00000000e+00,  0.00000000e+00,\n",
       "         0.00000000e+00,  0.00000000e+00, -5.25000000e+10,\n",
       "         0.00000000e+00,  0.00000000e+00,  1.23793790e+11,\n",
       "         0.00000000e+00,  6.76186956e+06, -5.25000000e+10,\n",
       "         0.00000000e+00,  0.00000000e+00],\n",
       "       [ 0.00000000e+00,  0.00000000e+00,  0.00000000e+00,\n",
       "         0.00000000e+00,  0.00000000e+00,  0.00000000e+00,\n",
       "         0.00000000e+00, -1.87802663e+10, -3.75672944e+10,\n",
       "        -1.69046739e+06,  1.87802663e+10, -3.75672944e+10,\n",
       "         1.69046739e+06,  0.00000000e+00,  0.00000000e+00,\n",
       "         0.00000000e+00,  0.00000000e+00,  0.00000000e+00,\n",
       "         0.00000000e+00,  0.00000000e+00,  0.00000000e+00,\n",
       "        -9.45000000e+06, -4.72500000e+06,  0.00000000e+00,\n",
       "         7.51534888e+10,  0.00000000e+00,  0.00000000e+00,\n",
       "        -9.45000000e+06,  4.72500000e+06],\n",
       "       [ 0.00000000e+00,  0.00000000e+00,  0.00000000e+00,\n",
       "         0.00000000e+00,  0.00000000e+00,  0.00000000e+00,\n",
       "         0.00000000e+00, -3.38093478e+06,  1.69046739e+06,\n",
       "         1.40872283e+06, -3.38093478e+06, -1.69046739e+06,\n",
       "         1.40872283e+06,  0.00000000e+00,  0.00000000e+00,\n",
       "         0.00000000e+00,  0.00000000e+00,  0.00000000e+00,\n",
       "         0.00000000e+00,  0.00000000e+00,  0.00000000e+00,\n",
       "         4.72500000e+06,  1.57500000e+06,  6.76186956e+06,\n",
       "         0.00000000e+00,  1.19348913e+07,  0.00000000e+00,\n",
       "        -4.72500000e+06,  1.57500000e+06],\n",
       "       [ 0.00000000e+00,  0.00000000e+00,  0.00000000e+00,\n",
       "         0.00000000e+00, -1.68086297e+19, -6.72345190e+18,\n",
       "         2.42044268e+05,  0.00000000e+00,  0.00000000e+00,\n",
       "         0.00000000e+00, -9.39689500e+09, -1.87802663e+10,\n",
       "         3.38093478e+06,  3.38093478e+06,  0.00000000e+00,\n",
       "         0.00000000e+00,  0.00000000e+00,  0.00000000e+00,\n",
       "         0.00000000e+00,  0.00000000e+00,  0.00000000e+00,\n",
       "         0.00000000e+00,  0.00000000e+00, -5.25000000e+10,\n",
       "         0.00000000e+00,  0.00000000e+00,  1.68086298e+19,\n",
       "         6.72345190e+18,  7.00391383e+06],\n",
       "       [ 0.00000000e+00,  0.00000000e+00,  0.00000000e+00,\n",
       "         0.00000000e+00, -6.72345190e+18, -2.68938076e+18,\n",
       "        -6.05110671e+05,  0.00000000e+00,  0.00000000e+00,\n",
       "         0.00000000e+00, -1.87802663e+10, -3.75672944e+10,\n",
       "        -1.69046739e+06,  1.69046739e+06,  0.00000000e+00,\n",
       "         0.00000000e+00,  0.00000000e+00,  0.00000000e+00,\n",
       "         0.00000000e+00,  0.00000000e+00,  0.00000000e+00,\n",
       "         0.00000000e+00,  0.00000000e+00,  0.00000000e+00,\n",
       "        -9.45000000e+06, -4.72500000e+06,  6.72345190e+18,\n",
       "         2.68938083e+18, -5.33011067e+06],\n",
       "       [ 0.00000000e+00,  0.00000000e+00,  0.00000000e+00,\n",
       "         0.00000000e+00, -2.42044268e+05,  6.05110671e+05,\n",
       "         5.84940315e+05,  0.00000000e+00,  0.00000000e+00,\n",
       "         0.00000000e+00, -3.38093478e+06,  1.69046739e+06,\n",
       "         1.40872283e+06,  1.40872283e+06,  0.00000000e+00,\n",
       "         0.00000000e+00,  0.00000000e+00,  0.00000000e+00,\n",
       "         0.00000000e+00,  0.00000000e+00,  0.00000000e+00,\n",
       "         0.00000000e+00,  0.00000000e+00,  0.00000000e+00,\n",
       "         4.72500000e+06,  1.57500000e+06,  7.00391383e+06,\n",
       "        -5.33011067e+06,  9.95477193e+06]])"
      ]
     },
     "execution_count": 18,
     "metadata": {},
     "output_type": "execute_result"
    }
   ],
   "source": [
    "K_reduced"
   ]
  },
  {
   "cell_type": "markdown",
   "metadata": {},
   "source": [
    "Now we know have everything inside the linear system. We must solve for the unknown."
   ]
  },
  {
   "cell_type": "code",
   "execution_count": 19,
   "metadata": {},
   "outputs": [],
   "source": [
    "# np.linalg.lstsq does the matrix left division. \n",
    "# it returns the residuals, rank, etc. of the calculation, so we just grab the list, which is element [0]\n",
    "u_unknown = np.linalg.lstsq(K_reduced,F_specified, rcond=None)[0]"
   ]
  },
  {
   "cell_type": "code",
   "execution_count": 20,
   "metadata": {},
   "outputs": [
    {
     "data": {
      "text/plain": [
       "array([ 0.14896016, -0.07942244,  0.11760287,  0.03731972, -0.15434632,\n",
       "        0.06547486, -0.13086081, -0.22760169, -0.11930836, -0.18939533,\n",
       "       -0.09754682, -0.13904721,  0.05000087,  0.14839388, -0.1410487 ,\n",
       "        0.09707411,  0.0724434 , -0.06933689,  0.11026983, -0.04967998,\n",
       "        0.00073621, -0.00434625, -0.17666133, -0.05995684, -0.16167771,\n",
       "       -0.06462303, -0.09099349, -0.0929072 ,  0.06360298])"
      ]
     },
     "execution_count": 20,
     "metadata": {},
     "output_type": "execute_result"
    }
   ],
   "source": [
    "u_unknown"
   ]
  },
  {
   "cell_type": "code",
   "execution_count": 21,
   "metadata": {},
   "outputs": [],
   "source": [
    "# create a list of all the displacement degrees of freedom (DoF)\n",
    "u_DoF=[]\n",
    "for i in range(len(u)):\n",
    "    u_DoF.append(i)\n",
    "\n",
    "# get the index locations of the free degrees of freedom (DoF)    \n",
    "u_free = (list(set(u_DoF) - set(u_specified)))    \n",
    "\n",
    "# put the free (formerly unknown) displacements into the displacement vector u\n",
    "np.put(u,u_free,u_unknown)"
   ]
  },
  {
   "cell_type": "code",
   "execution_count": 22,
   "metadata": {},
   "outputs": [
    {
     "name": "stdout",
     "output_type": "stream",
     "text": [
      "-0.0794224366\n"
     ]
    }
   ],
   "source": [
    "print('%.10f'%u[3])"
   ]
  },
  {
   "cell_type": "code",
   "execution_count": null,
   "metadata": {},
   "outputs": [],
   "source": []
  },
  {
   "cell_type": "code",
   "execution_count": 23,
   "metadata": {},
   "outputs": [
    {
     "data": {
      "text/plain": [
       "array([[ 0.        ,  0.        ],\n",
       "       [-0.07942244,  0.11760287],\n",
       "       [-0.15434632,  0.06547486],\n",
       "       [-0.22760169, -0.11930836],\n",
       "       [-0.09754682, -0.13904721],\n",
       "       [ 0.        ,  0.        ],\n",
       "       [-0.1410487 ,  0.09707411],\n",
       "       [-0.06933689,  0.11026983],\n",
       "       [ 0.00073621, -0.00434625],\n",
       "       [-0.05995684, -0.16167771],\n",
       "       [-0.09099349, -0.0929072 ]])"
      ]
     },
     "execution_count": 23,
     "metadata": {},
     "output_type": "execute_result"
    }
   ],
   "source": [
    "nodes_new = nodes + np.reshape(u,(len(nodes),DoF))[:,0:2]\n",
    "nodes_new\n",
    "np.reshape(u,(len(nodes),DoF))[:,0:2]"
   ]
  },
  {
   "cell_type": "code",
   "execution_count": 24,
   "metadata": {},
   "outputs": [
    {
     "data": {
      "image/png": "[encoded data removed]",
      "text/plain": [
       "<Figure size 432x288 with 1 Axes>"
      ]
     },
     "metadata": {
      "needs_background": "light"
     },
     "output_type": "display_data"
    }
   ],
   "source": [
    "# set axes aspect ratio = 1\n",
    "# turn off the axis\n",
    "\n",
    "plt.axes().set_aspect('equal') \n",
    "plt.axis('off') \n",
    "\n",
    "# plot the nodes\n",
    "plt.plot(nodes[:,0], nodes[:,1], 'k.',markersize=15)\n",
    "plt.plot(nodes_new[:,0], nodes_new[:,1], 'r.',markersize=15)\n",
    "# plot the elements\n",
    "# loop through the list of elements, grab the x position and y position of each node associated with that element\n",
    "# the line: 'elements[i,0]-1' is necessary because python starts counting at 0, not 1 (like MATLAB)\n",
    "for i in range(len(elements)):\n",
    "    plt.plot(np.array([\n",
    "    nodes[int(elements[i,0]-1),0], nodes[int(elements[i,1]-1),0]]),\n",
    "         np.array([nodes[int(elements[i,0]-1),1], nodes[int(elements[i,1]-1),1]]),\n",
    "         'k-')\n",
    "# plot the deformed elements\n",
    "for i in range(len(elements)):\n",
    "    plt.plot(np.array([\n",
    "    nodes_new[int(elements[i,0]-1),0], nodes_new[int(elements[i,1]-1),0]]),\n",
    "         np.array([nodes_new[int(elements[i,0]-1),1], nodes_new[int(elements[i,1]-1),1]]),\n",
    "         'r-')    \n",
    "plt.show()"
   ]
  },
  {
   "cell_type": "code",
   "execution_count": null,
   "metadata": {},
   "outputs": [],
   "source": []
  }
 ],
 "metadata": {
  "kernelspec": {
   "display_name": "Python 3",
   "language": "python",
   "name": "python3"
  },
  "language_info": {
   "codemirror_mode": {
    "name": "ipython",
    "version": 3
   },
   "file_extension": ".py",
   "mimetype": "text/x-python",
   "name": "python",
   "nbconvert_exporter": "python",
   "pygments_lexer": "ipython3",
   "version": "3.7.6"
  }
 },
 "nbformat": 4,
 "nbformat_minor": 4
}
