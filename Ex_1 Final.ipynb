{
 "cells": [
  {
   "cell_type": "markdown",
   "metadata": {},
   "source": [
    "<h1>ME309: Structural Mechanics</h1> <div style=\"text-align: right\"><h4>Pietro Zullo</h4> </div>                                                          \n",
    "<h3>Final Exam 2020</h3>           <div style=\"text-align: right\"> <h4>U41494036</h4> </div>                                                           \n",
    "\n",
    "Consider a cantilever beam that is supported by a roller at its opposite end. The beam is loaded at its center by a force P. Element (1) has a bending rigidity that is four times higher than element (2), and take L = 1.2m, E = 210GPa, I = 1.5 × 107mm4, and P = 30kN.\n",
    "First, use the appropriate energy method to determine an approximate shape of the deformed shape, and plot the shape using Mathematica or MATLAB. Second, implement the beam element in your FEA model, and use it to determine the nodal displacements and rotations. Compare the two solutions and discuss the results.\n",
    "Please print and attach your FEA code."
   ]
  },
  {
   "cell_type": "code",
   "execution_count": 1,
   "metadata": {},
   "outputs": [],
   "source": [
    "import numpy as np \n",
    "import sympy as sys \n",
    "import matplotlib.pyplot as plt"
   ]
  },
  {
   "cell_type": "code",
   "execution_count": 2,
   "metadata": {},
   "outputs": [],
   "source": [
    "\n",
    "from IPython.display import Math, HTML\n",
    "\n",
    "def load_mathjax_in_cell_output():\n",
    "  display(HTML(\"<script src='https://www.gstatic.com/external_hosted/\"\n",
    "               \"mathjax/latest/MathJax.js?config=default'></script>\"))\n",
    "get_ipython().events.register('pre_run_cell', load_mathjax_in_cell_output)\n",
    "\n",
    "sys.init_printing() "
   ]
  },
  {
   "cell_type": "code",
   "execution_count": 3,
   "metadata": {},
   "outputs": [
    {
     "data": {
      "text/html": [
       "<script src='https://www.gstatic.com/external_hosted/mathjax/latest/MathJax.js?config=default'></script>"
      ],
      "text/plain": [
       "<IPython.core.display.HTML object>"
      ]
     },
     "metadata": {},
     "output_type": "display_data"
    }
   ],
   "source": [
    "y,L = sys.symbols('y L')\n",
    "global a0,a1,a2,a3,a4\n",
    "a0, a1, a2, a3, a4 = sys.symbols('a0 a1 a2 a3 a4') # deflection w(x) = a1+a2*x+a3*x^2+a4*x^3\n",
    "w1, w2, theta_1, theta_2 = sys.symbols('w1 w2 theta_1 theta_2') # degrees of freedom (DoF)\n",
    "E, I = sys.symbols('E I') # materials and geometry\n",
    "F1, M1, F2, M2 = sys.symbols('F1 M1 F2 M2') # forces (y direction) and couples\n",
    "P, q = sys.symbols('P q') # force, force/length"
   ]
  },
  {
   "cell_type": "markdown",
   "metadata": {},
   "source": [
    "We will first assume that the deflection takes the form of a polynomial function of 4th grade "
   ]
  },
  {
   "cell_type": "code",
   "execution_count": 4,
   "metadata": {},
   "outputs": [
    {
     "data": {
      "text/html": [
       "<script src='https://www.gstatic.com/external_hosted/mathjax/latest/MathJax.js?config=default'></script>"
      ],
      "text/plain": [
       "<IPython.core.display.HTML object>"
      ]
     },
     "metadata": {},
     "output_type": "display_data"
    }
   ],
   "source": [
    "def w(y):\n",
    "    return a0+a1*y+a2*y**2+a3*y**3+a4*y**4"
   ]
  },
  {
   "cell_type": "code",
   "execution_count": 5,
   "metadata": {},
   "outputs": [
    {
     "data": {
      "text/html": [
       "<script src='https://www.gstatic.com/external_hosted/mathjax/latest/MathJax.js?config=default'></script>"
      ],
      "text/plain": [
       "<IPython.core.display.HTML object>"
      ]
     },
     "metadata": {},
     "output_type": "display_data"
    },
    {
     "data": {
      "image/png": "[encoded data removed]",
      "text/latex": [
       "$\\displaystyle a_{0} + a_{1} y + a_{2} y^{2} + a_{3} y^{3} + a_{4} y^{4}$"
      ],
      "text/plain": [
       "                2       3       4\n",
       "a₀ + a₁⋅y + a₂⋅y  + a₃⋅y  + a₄⋅y "
      ]
     },
     "execution_count": 5,
     "metadata": {},
     "output_type": "execute_result"
    }
   ],
   "source": [
    "w(y)"
   ]
  },
  {
   "cell_type": "markdown",
   "metadata": {},
   "source": [
    "Now we have to decide what boundary conditions to include "
   ]
  },
  {
   "cell_type": "markdown",
   "metadata": {},
   "source": [
    "<h3> Geometric Boundary Conditions </h3>"
   ]
  },
  {
   "cell_type": "markdown",
   "metadata": {},
   "source": [
    "I will impose three Dirichlet Boundary conditions ddefined by the joints of the beam, the clamp in zero sets both the displacement and the rotation at y = 0 equal to zero, the roller in y = L sets the vertical displacement w(L) equal to zero. "
   ]
  },
  {
   "cell_type": "code",
   "execution_count": 6,
   "metadata": {},
   "outputs": [
    {
     "data": {
      "text/html": [
       "<script src='https://www.gstatic.com/external_hosted/mathjax/latest/MathJax.js?config=default'></script>"
      ],
      "text/plain": [
       "<IPython.core.display.HTML object>"
      ]
     },
     "metadata": {},
     "output_type": "display_data"
    }
   ],
   "source": [
    "gbc = [sys.Eq(0,w(0)),\n",
    "sys.Eq(0,w(2*L)),\n",
    "      sys.Eq(0,sys.diff(w(y),y).subs(y,0))]\n",
    "\n",
    "               "
   ]
  },
  {
   "cell_type": "code",
   "execution_count": 7,
   "metadata": {},
   "outputs": [
    {
     "data": {
      "text/html": [
       "<script src='https://www.gstatic.com/external_hosted/mathjax/latest/MathJax.js?config=default'></script>"
      ],
      "text/plain": [
       "<IPython.core.display.HTML object>"
      ]
     },
     "metadata": {},
     "output_type": "display_data"
    }
   ],
   "source": [
    "sol = sys.solve([gbc[0],gbc[1],gbc[2]],(a0,a2,a1))"
   ]
  },
  {
   "cell_type": "code",
   "execution_count": 8,
   "metadata": {},
   "outputs": [
    {
     "data": {
      "text/html": [
       "<script src='https://www.gstatic.com/external_hosted/mathjax/latest/MathJax.js?config=default'></script>"
      ],
      "text/plain": [
       "<IPython.core.display.HTML object>"
      ]
     },
     "metadata": {},
     "output_type": "display_data"
    },
    {
     "data": {
      "image/png": "[encoded data removed]",
      "text/latex": [
       "$\\displaystyle \\left\\{ a_{0} : 0, \\  a_{1} : 0, \\  a_{2} : - 2 L \\left(2 L a_{4} + a_{3}\\right)\\right\\}$"
      ],
      "text/plain": [
       "{a₀: 0, a₁: 0, a₂: -2⋅L⋅(2⋅L⋅a₄ + a₃)}"
      ]
     },
     "execution_count": 8,
     "metadata": {},
     "output_type": "execute_result"
    }
   ],
   "source": [
    "sol"
   ]
  },
  {
   "cell_type": "code",
   "execution_count": 9,
   "metadata": {},
   "outputs": [
    {
     "data": {
      "text/html": [
       "<script src='https://www.gstatic.com/external_hosted/mathjax/latest/MathJax.js?config=default'></script>"
      ],
      "text/plain": [
       "<IPython.core.display.HTML object>"
      ]
     },
     "metadata": {},
     "output_type": "display_data"
    }
   ],
   "source": [
    "a0 = sol[a0]\n",
    "a1 = sol[a1]\n",
    "a2 = sol[a2]"
   ]
  },
  {
   "cell_type": "code",
   "execution_count": 10,
   "metadata": {},
   "outputs": [
    {
     "data": {
      "text/html": [
       "<script src='https://www.gstatic.com/external_hosted/mathjax/latest/MathJax.js?config=default'></script>"
      ],
      "text/plain": [
       "<IPython.core.display.HTML object>"
      ]
     },
     "metadata": {},
     "output_type": "display_data"
    },
    {
     "data": {
      "image/png": "[encoded data removed]",
      "text/latex": [
       "$\\displaystyle - 2 L y^{2} \\left(2 L a_{4} + a_{3}\\right) + a_{3} y^{3} + a_{4} y^{4}$"
      ],
      "text/plain": [
       "       2                     3       4\n",
       "- 2⋅L⋅y ⋅(2⋅L⋅a₄ + a₃) + a₃⋅y  + a₄⋅y "
      ]
     },
     "execution_count": 10,
     "metadata": {},
     "output_type": "execute_result"
    }
   ],
   "source": [
    "w(y)"
   ]
  },
  {
   "cell_type": "code",
   "execution_count": 11,
   "metadata": {},
   "outputs": [
    {
     "data": {
      "text/html": [
       "<script src='https://www.gstatic.com/external_hosted/mathjax/latest/MathJax.js?config=default'></script>"
      ],
      "text/plain": [
       "<IPython.core.display.HTML object>"
      ]
     },
     "metadata": {},
     "output_type": "display_data"
    },
    {
     "data": {
      "image/png": "[encoded data removed]",
      "text/latex": [
       "$\\displaystyle 2 \\left(- 2 L \\left(2 L a_{4} + a_{3}\\right) + 3 a_{3} y + 6 a_{4} y^{2}\\right)$"
      ],
      "text/plain": [
       "  ⎛                                    2⎞\n",
       "2⋅⎝-2⋅L⋅(2⋅L⋅a₄ + a₃) + 3⋅a₃⋅y + 6⋅a₄⋅y ⎠"
      ]
     },
     "execution_count": 11,
     "metadata": {},
     "output_type": "execute_result"
    }
   ],
   "source": [
    "sys.diff(w(y),y,2)"
   ]
  },
  {
   "cell_type": "markdown",
   "metadata": {},
   "source": [
    "Definition of the strain energy "
   ]
  },
  {
   "cell_type": "code",
   "execution_count": 12,
   "metadata": {},
   "outputs": [
    {
     "data": {
      "text/html": [
       "<script src='https://www.gstatic.com/external_hosted/mathjax/latest/MathJax.js?config=default'></script>"
      ],
      "text/plain": [
       "<IPython.core.display.HTML object>"
      ]
     },
     "metadata": {},
     "output_type": "display_data"
    }
   ],
   "source": [
    "U = (E*I/2)*sys.integrate(sys.diff(w(y),y,2)**2,(y,0,L))+(E*I/8)*sys.integrate(sys.diff(w(y),y,2)**2,(y,L,2*L))"
   ]
  },
  {
   "cell_type": "code",
   "execution_count": 13,
   "metadata": {},
   "outputs": [
    {
     "data": {
      "text/html": [
       "<script src='https://www.gstatic.com/external_hosted/mathjax/latest/MathJax.js?config=default'></script>"
      ],
      "text/plain": [
       "<IPython.core.display.HTML object>"
      ]
     },
     "metadata": {},
     "output_type": "display_data"
    },
    {
     "data": {
      "image/png": "[encoded data removed]",
      "text/latex": [
       "$\\displaystyle \\frac{E I \\left(\\frac{144 L^{5} a_{4}^{2}}{5} + 36 L^{4} a_{3} a_{4} + L^{3} \\left(- 64 L^{2} a_{4}^{2} - 32 L a_{3} a_{4} + 12 a_{3}^{2}\\right) + L^{2} \\left(- 48 L^{2} a_{3} a_{4} - 24 L a_{3}^{2}\\right) + L \\left(64 L^{4} a_{4}^{2} + 64 L^{3} a_{3} a_{4} + 16 L^{2} a_{3}^{2}\\right)\\right)}{2} + \\frac{E I \\left(\\frac{4464 L^{5} a_{4}^{2}}{5} + 540 L^{4} a_{3} a_{4} + 7 L^{3} \\left(- 64 L^{2} a_{4}^{2} - 32 L a_{3} a_{4} + 12 a_{3}^{2}\\right) + 3 L^{2} \\left(- 48 L^{2} a_{3} a_{4} - 24 L a_{3}^{2}\\right) + L \\left(64 L^{4} a_{4}^{2} + 64 L^{3} a_{3} a_{4} + 16 L^{2} a_{3}^{2}\\right)\\right)}{8}$"
      ],
      "text/plain": [
       "    ⎛     5   2                                                               \n",
       "    ⎜144⋅L ⋅a₄        4          3 ⎛      2   2                     2⎞    2 ⎛ \n",
       "E⋅I⋅⎜────────── + 36⋅L ⋅a₃⋅a₄ + L ⋅⎝- 64⋅L ⋅a₄  - 32⋅L⋅a₃⋅a₄ + 12⋅a₃ ⎠ + L ⋅⎝-\n",
       "    ⎝    5                                                                    \n",
       "──────────────────────────────────────────────────────────────────────────────\n",
       "                                                                        2     \n",
       "\n",
       "                                                                  ⎞       ⎛   \n",
       "     2                2⎞     ⎛    4   2       3             2   2⎞⎟       ⎜446\n",
       " 48⋅L ⋅a₃⋅a₄ - 24⋅L⋅a₃ ⎠ + L⋅⎝64⋅L ⋅a₄  + 64⋅L ⋅a₃⋅a₄ + 16⋅L ⋅a₃ ⎠⎟   E⋅I⋅⎜───\n",
       "                                                                  ⎠       ⎝   \n",
       "─────────────────────────────────────────────────────────────────── + ────────\n",
       "                                                                              \n",
       "\n",
       "   5   2                                                                      \n",
       "4⋅L ⋅a₄         4            3 ⎛      2   2                     2⎞      2 ⎛   \n",
       "──────── + 540⋅L ⋅a₃⋅a₄ + 7⋅L ⋅⎝- 64⋅L ⋅a₄  - 32⋅L⋅a₃⋅a₄ + 12⋅a₃ ⎠ + 3⋅L ⋅⎝- 4\n",
       "  5                                                                           \n",
       "──────────────────────────────────────────────────────────────────────────────\n",
       "                                                                   8          \n",
       "\n",
       "                                                                ⎞\n",
       "   2                2⎞     ⎛    4   2       3             2   2⎞⎟\n",
       "8⋅L ⋅a₃⋅a₄ - 24⋅L⋅a₃ ⎠ + L⋅⎝64⋅L ⋅a₄  + 64⋅L ⋅a₃⋅a₄ + 16⋅L ⋅a₃ ⎠⎟\n",
       "                                                                ⎠\n",
       "─────────────────────────────────────────────────────────────────\n",
       "                                                                 "
      ]
     },
     "execution_count": 13,
     "metadata": {},
     "output_type": "execute_result"
    }
   ],
   "source": [
    "U\n"
   ]
  },
  {
   "cell_type": "code",
   "execution_count": 14,
   "metadata": {},
   "outputs": [
    {
     "data": {
      "text/html": [
       "<script src='https://www.gstatic.com/external_hosted/mathjax/latest/MathJax.js?config=default'></script>"
      ],
      "text/plain": [
       "<IPython.core.display.HTML object>"
      ]
     },
     "metadata": {},
     "output_type": "display_data"
    },
    {
     "data": {
      "image/png": "[encoded data removed]",
      "text/latex": [
       "$\\displaystyle \\frac{E I L^{3} \\left(156 L^{2} a_{4}^{2} + 79 L a_{3} a_{4} + 11 a_{3}^{2}\\right)}{2}$"
      ],
      "text/plain": [
       "     3 ⎛     2   2                     2⎞\n",
       "E⋅I⋅L ⋅⎝156⋅L ⋅a₄  + 79⋅L⋅a₃⋅a₄ + 11⋅a₃ ⎠\n",
       "─────────────────────────────────────────\n",
       "                    2                    "
      ]
     },
     "execution_count": 14,
     "metadata": {},
     "output_type": "execute_result"
    }
   ],
   "source": [
    "sys.simplify(U)"
   ]
  },
  {
   "cell_type": "markdown",
   "metadata": {},
   "source": [
    "Definition of the work done by point load P"
   ]
  },
  {
   "cell_type": "code",
   "execution_count": 15,
   "metadata": {},
   "outputs": [
    {
     "data": {
      "text/html": [
       "<script src='https://www.gstatic.com/external_hosted/mathjax/latest/MathJax.js?config=default'></script>"
      ],
      "text/plain": [
       "<IPython.core.display.HTML object>"
      ]
     },
     "metadata": {},
     "output_type": "display_data"
    },
    {
     "data": {
      "image/png": "[encoded data removed]",
      "text/latex": [
       "$\\displaystyle L^{3} P \\left(3 L a_{4} + a_{3}\\right)$"
      ],
      "text/plain": [
       " 3                \n",
       "L ⋅P⋅(3⋅L⋅a₄ + a₃)"
      ]
     },
     "execution_count": 15,
     "metadata": {},
     "output_type": "execute_result"
    }
   ],
   "source": [
    "W = - P * w(L)\n",
    "sys.simplify(W)\n"
   ]
  },
  {
   "cell_type": "markdown",
   "metadata": {},
   "source": [
    "Definition of the total potential energy of the beam "
   ]
  },
  {
   "cell_type": "code",
   "execution_count": 16,
   "metadata": {},
   "outputs": [
    {
     "data": {
      "text/html": [
       "<script src='https://www.gstatic.com/external_hosted/mathjax/latest/MathJax.js?config=default'></script>"
      ],
      "text/plain": [
       "<IPython.core.display.HTML object>"
      ]
     },
     "metadata": {},
     "output_type": "display_data"
    }
   ],
   "source": [
    "PI = U+W"
   ]
  },
  {
   "cell_type": "markdown",
   "metadata": {},
   "source": [
    "Rayleigh-Reiz Method, we set the derivatives of the total potential energy in respect to the unknown constants equal to zero and solve for the constants "
   ]
  },
  {
   "cell_type": "code",
   "execution_count": 17,
   "metadata": {},
   "outputs": [
    {
     "data": {
      "text/html": [
       "<script src='https://www.gstatic.com/external_hosted/mathjax/latest/MathJax.js?config=default'></script>"
      ],
      "text/plain": [
       "<IPython.core.display.HTML object>"
      ]
     },
     "metadata": {},
     "output_type": "display_data"
    }
   ],
   "source": [
    "sol.update(sys.solve([sys.Eq(0,sys.diff(PI,a3)),sys.Eq(0,sys.diff(PI,a4))],(a3,a4)))"
   ]
  },
  {
   "cell_type": "code",
   "execution_count": 18,
   "metadata": {},
   "outputs": [
    {
     "data": {
      "text/html": [
       "<script src='https://www.gstatic.com/external_hosted/mathjax/latest/MathJax.js?config=default'></script>"
      ],
      "text/plain": [
       "<IPython.core.display.HTML object>"
      ]
     },
     "metadata": {},
     "output_type": "display_data"
    },
    {
     "data": {
      "image/png": "[encoded data removed]",
      "text/latex": [
       "$\\displaystyle \\left\\{ a_{0} : 0, \\  a_{1} : 0, \\  a_{2} : - 2 L \\left(2 L a_{4} + a_{3}\\right), \\  a_{3} : - \\frac{150 P}{623 E I}, \\  a_{4} : \\frac{26 P}{623 E I L}\\right\\}$"
      ],
      "text/plain": [
       "⎧                                          -150⋅P          26⋅P  ⎫\n",
       "⎨a₀: 0, a₁: 0, a₂: -2⋅L⋅(2⋅L⋅a₄ + a₃), a₃: ───────, a₄: ─────────⎬\n",
       "⎩                                          623⋅E⋅I      623⋅E⋅I⋅L⎭"
      ]
     },
     "execution_count": 18,
     "metadata": {},
     "output_type": "execute_result"
    }
   ],
   "source": [
    "sol\n"
   ]
  },
  {
   "cell_type": "code",
   "execution_count": 19,
   "metadata": {},
   "outputs": [
    {
     "data": {
      "text/html": [
       "<script src='https://www.gstatic.com/external_hosted/mathjax/latest/MathJax.js?config=default'></script>"
      ],
      "text/plain": [
       "<IPython.core.display.HTML object>"
      ]
     },
     "metadata": {},
     "output_type": "display_data"
    }
   ],
   "source": [
    "a3 = sol[a3]\n",
    "a4 = sol[a4]"
   ]
  },
  {
   "cell_type": "markdown",
   "metadata": {},
   "source": [
    "So we have all the values of the constants "
   ]
  },
  {
   "cell_type": "code",
   "execution_count": 20,
   "metadata": {},
   "outputs": [
    {
     "data": {
      "text/html": [
       "<script src='https://www.gstatic.com/external_hosted/mathjax/latest/MathJax.js?config=default'></script>"
      ],
      "text/plain": [
       "<IPython.core.display.HTML object>"
      ]
     },
     "metadata": {},
     "output_type": "display_data"
    },
    {
     "data": {
      "image/png": "[encoded data removed]",
      "text/latex": [
       "$\\displaystyle 0$"
      ],
      "text/plain": [
       "0"
      ]
     },
     "execution_count": 20,
     "metadata": {},
     "output_type": "execute_result"
    }
   ],
   "source": [
    "a0"
   ]
  },
  {
   "cell_type": "code",
   "execution_count": 21,
   "metadata": {},
   "outputs": [
    {
     "data": {
      "text/html": [
       "<script src='https://www.gstatic.com/external_hosted/mathjax/latest/MathJax.js?config=default'></script>"
      ],
      "text/plain": [
       "<IPython.core.display.HTML object>"
      ]
     },
     "metadata": {},
     "output_type": "display_data"
    },
    {
     "data": {
      "image/png": "[encoded data removed]",
      "text/latex": [
       "$\\displaystyle 0$"
      ],
      "text/plain": [
       "0"
      ]
     },
     "execution_count": 21,
     "metadata": {},
     "output_type": "execute_result"
    }
   ],
   "source": [
    "a1"
   ]
  },
  {
   "cell_type": "code",
   "execution_count": 22,
   "metadata": {},
   "outputs": [
    {
     "data": {
      "text/html": [
       "<script src='https://www.gstatic.com/external_hosted/mathjax/latest/MathJax.js?config=default'></script>"
      ],
      "text/plain": [
       "<IPython.core.display.HTML object>"
      ]
     },
     "metadata": {},
     "output_type": "display_data"
    },
    {
     "data": {
      "image/png": "[encoded data removed]",
      "text/latex": [
       "$\\displaystyle - 2 L \\left(2 L a_{4} + a_{3}\\right)$"
      ],
      "text/plain": [
       "-2⋅L⋅(2⋅L⋅a₄ + a₃)"
      ]
     },
     "execution_count": 22,
     "metadata": {},
     "output_type": "execute_result"
    }
   ],
   "source": [
    "a2\n"
   ]
  },
  {
   "cell_type": "code",
   "execution_count": null,
   "metadata": {},
   "outputs": [],
   "source": []
  },
  {
   "cell_type": "code",
   "execution_count": 23,
   "metadata": {},
   "outputs": [
    {
     "data": {
      "text/html": [
       "<script src='https://www.gstatic.com/external_hosted/mathjax/latest/MathJax.js?config=default'></script>"
      ],
      "text/plain": [
       "<IPython.core.display.HTML object>"
      ]
     },
     "metadata": {},
     "output_type": "display_data"
    },
    {
     "data": {
      "image/png": "[encoded data removed]",
      "text/latex": [
       "$\\displaystyle - \\frac{150 P}{623 E I}$"
      ],
      "text/plain": [
       "-150⋅P \n",
       "───────\n",
       "623⋅E⋅I"
      ]
     },
     "execution_count": 23,
     "metadata": {},
     "output_type": "execute_result"
    }
   ],
   "source": [
    "a3"
   ]
  },
  {
   "cell_type": "code",
   "execution_count": 24,
   "metadata": {},
   "outputs": [
    {
     "data": {
      "text/html": [
       "<script src='https://www.gstatic.com/external_hosted/mathjax/latest/MathJax.js?config=default'></script>"
      ],
      "text/plain": [
       "<IPython.core.display.HTML object>"
      ]
     },
     "metadata": {},
     "output_type": "display_data"
    },
    {
     "data": {
      "image/png": "[encoded data removed]",
      "text/latex": [
       "$\\displaystyle \\frac{26 P}{623 E I L}$"
      ],
      "text/plain": [
       "   26⋅P  \n",
       "─────────\n",
       "623⋅E⋅I⋅L"
      ]
     },
     "execution_count": 24,
     "metadata": {},
     "output_type": "execute_result"
    }
   ],
   "source": [
    "a4"
   ]
  },
  {
   "cell_type": "markdown",
   "metadata": {},
   "source": [
    "We have to insert the values of a3 and a4 into a2 "
   ]
  }
 ],
 "metadata": {
  "kernelspec": {
   "display_name": "Python 3",
   "language": "python",
   "name": "python3"
  },
  "language_info": {
   "codemirror_mode": {
    "name": "ipython",
    "version": 3
   },
   "file_extension": ".py",
   "mimetype": "text/x-python",
   "name": "python",
   "nbconvert_exporter": "python",
   "pygments_lexer": "ipython3",
   "version": "3.7.6"
  }
 },
 "nbformat": 4,
 "nbformat_minor": 4
}
